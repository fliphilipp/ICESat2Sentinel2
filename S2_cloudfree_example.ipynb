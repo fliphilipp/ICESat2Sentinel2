{
 "cells": [
  {
   "cell_type": "code",
   "execution_count": null,
   "id": "c180c16d-126d-4a54-8726-49b478adde7c",
   "metadata": {
    "tags": []
   },
   "outputs": [],
   "source": [
    "%matplotlib widget\n",
    "from utils.S2 import plotS2cloudfree"
   ]
  },
  {
   "cell_type": "code",
   "execution_count": null,
   "id": "c12d9333-3b25-457c-bc24-de6b6afb1926",
   "metadata": {
    "tags": []
   },
   "outputs": [],
   "source": [
    "plotS2cloudfree(lon=95.573454, lat=-65.727596, date_time='2022-11-14T21:39:14Z', buffer_m=2500, \n",
    "                max_cloud_prob=10, gamma_value=1.8, imagery_filename='imagery/bench-20221114.tif', \n",
    "                plot_filename='plots/bench-20221114.jpg')"
   ]
  }
 ],
 "metadata": {
  "kernelspec": {
   "display_name": "Python 3 (ipykernel)",
   "language": "python",
   "name": "python3"
  },
  "language_info": {
   "codemirror_mode": {
    "name": "ipython",
    "version": 3
   },
   "file_extension": ".py",
   "mimetype": "text/x-python",
   "name": "python",
   "nbconvert_exporter": "python",
   "pygments_lexer": "ipython3",
   "version": "3.10.12"
  }
 },
 "nbformat": 4,
 "nbformat_minor": 5
}
